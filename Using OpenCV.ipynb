{
 "cells": [
  {
   "cell_type": "code",
   "execution_count": 2,
   "metadata": {
    "collapsed": true
   },
   "outputs": [],
   "source": [
    "import numpy as np\n",
    "import cv2\n",
    "import urllib\n",
    "image_url = \"https://assets.myntassets.com/h_640,q_90,w_480/v1/assets/images/2354027/2018/1/16/11516097831111-MsTaken-Women-Navy-Blue-Striped-Top-4731516097830960-1.jpg\"\n"
   ]
  },
  {
   "cell_type": "code",
   "execution_count": 3,
   "metadata": {
    "scrolled": true
   },
   "outputs": [
    {
     "name": "stdout",
     "output_type": "stream",
     "text": [
      "successfully downloaded : ms_taken!\n"
     ]
    }
   ],
   "source": [
    "# Download image using python\n",
    "\n",
    "def download(filename, image_url):\n",
    "    with open(filename,'wb') as f:\n",
    "    # write the contents of the response (r.read()) to a new file in binary mode.\n",
    "        r = urllib.request.urlopen(image_url)\n",
    "        f.write(r.read())\n",
    "        print(\"successfully downloaded : \" + filename + \"!\")\n",
    "        \n",
    "download(\"ms_taken\", image_url)"
   ]
  },
  {
   "cell_type": "code",
   "execution_count": 4,
   "metadata": {
    "collapsed": true
   },
   "outputs": [],
   "source": [
    "# Read the image\n",
    "def url_to_image(url):\n",
    "    resp = urllib.request.urlopen(url)\n",
    "    image = np.asarray(bytearray(resp.read()), dtype=\"uint8\")\n",
    "    image = cv2.imdecode(image, cv2.IMREAD_COLOR)\n",
    "    return image\n",
    "\n",
    "# reading url\n",
    "img = url_to_image(image_url)"
   ]
  },
  {
   "cell_type": "code",
   "execution_count": 5,
   "metadata": {},
   "outputs": [
    {
     "data": {
      "text/plain": [
       "27"
      ]
     },
     "execution_count": 5,
     "metadata": {},
     "output_type": "execute_result"
    }
   ],
   "source": [
    "# Display\n",
    "%matplotlib inline\n",
    "cv2.imshow(\"MsToken\", img)\n",
    "cv2.waitKey(0)"
   ]
  },
  {
   "cell_type": "code",
   "execution_count": 6,
   "metadata": {},
   "outputs": [
    {
     "name": "stdout",
     "output_type": "stream",
     "text": [
      "Shape of Image: height-640, width-480, color channel-3\n"
     ]
    }
   ],
   "source": [
    "# Shape of image\n",
    "print(\"Shape of Image: height-%d, width-%d, color channel-%d\" %img.shape)"
   ]
  },
  {
   "cell_type": "code",
   "execution_count": null,
   "metadata": {},
   "outputs": [],
   "source": [
    "# Resize\n",
    "imgr = cv2.resize(img, (224, 224))\n",
    "cv2.imshow(\"MsToken_Resized\", imgr)\n",
    "cv2.waitKey(0)"
   ]
  },
  {
   "cell_type": "code",
   "execution_count": null,
   "metadata": {
    "collapsed": true
   },
   "outputs": [],
   "source": [
    "# Save resized image\n",
    "cv2.imwrite(\"MsToken_Resized.jpg\", imgr)"
   ]
  }
 ],
 "metadata": {
  "kernelspec": {
   "display_name": "Python 3",
   "language": "python",
   "name": "python3"
  },
  "language_info": {
   "codemirror_mode": {
    "name": "ipython",
    "version": 3
   },
   "file_extension": ".py",
   "mimetype": "text/x-python",
   "name": "python",
   "nbconvert_exporter": "python",
   "pygments_lexer": "ipython3",
   "version": "3.5.2"
  }
 },
 "nbformat": 4,
 "nbformat_minor": 2
}
